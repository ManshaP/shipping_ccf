{
 "cells": [
  {
   "cell_type": "code",
   "execution_count": 1,
   "id": "8050c2ba-3100-493f-96c3-5a62dc7f100d",
   "metadata": {
    "tags": []
   },
   "outputs": [],
   "source": [
    "import glob\n",
    "import numpy as np\n",
    "import pandas as pd\n",
    "import datetime\n",
    "import xarray as xr\n",
    "import dask\n",
    "import dask.dataframe as dd\n",
    "from dask.distributed import Client\n",
    "import matplotlib.pyplot as plt\n",
    "import pickle\n",
    "def myround(x, base=5):\n",
    "    return base * round(x/base)\n",
    "def date(x):\n",
    "    return x.date()\n",
    "\n"
   ]
  },
  {
   "cell_type": "code",
   "execution_count": null,
   "id": "99c90d45-3dab-4c22-aca2-ee36ebc87c02",
   "metadata": {},
   "outputs": [],
   "source": [
    "era_filepath = '/gws/nopw/j04/eo_shared_data_vol2/scratch/pete_nut/reanalysis_data/ERA5/regression_vars/'\n",
    "dtypes = {'latitude':np.float32, 'longitude':np.float32, 'r_eff':np.float32, 'npoints':np.float32, 'LWP':np.float32, 'COT':np.float32,\n",
    "                       'CTH':np.float32, 'signal':np.float32,  'particle':np.int32, 'latitude_1':np.float32, 'longitude_1':np.float32,\n",
    "                       'r_eff_1':np.float32, 'LWP_1':np.float32, 'COT_1':np.float32, 'CTH_1':np.float32, 'npoints_1':np.float32, 'latitude_3':np.float32,\n",
    "                       'longitude_3':np.float32, 'r_eff_3':np.float32, 'LWP_3':np.float32, 'COT_3':np.float32, 'CTH_3':np.float32, 'npoints_3':np.float32,\n",
    "                       'terra':np.bool_, 'ocean':np.bool_,'Nd':np.float32, 'Nd_1':np.float32 , 'Nd_3':np.float32,  'hours_diff':np.int32, 'chil':np.bool_, 'azor':np.bool_, 'cver':np.bool_, 'ango':np.bool_}\n",
    "colu = ['longitude',  'latitude', 'ocean','overpass' ]\n",
    "\n",
    "for year in ['2014','2015','2016','2017','2018','2019','2021',][0:1]:\n",
    "    files = glob.glob('/gws/nopw/j04/eo_shared_data_vol1/satellite/modistracks/{}/inc_EIS_par_??'.format(year))\n",
    "    h5 = pd.read_parquet(files,\n",
    "                     columns=colu,\n",
    "                     # dtype=dtypes,\n",
    "                     # blocksize=200e6\n",
    "                        )\n",
    "    \n",
    "    for ran_path in glob.glob(era_filepath + '*{}*.nc'.format(year))[0:1]:\n",
    "        era = xr.open_dataset(ran_path)\n",
    "        era_int = era.interp(time=xr.DataArray(h5.index, dims='obs'), longitude=xr.DataArray(h5.longitude, dims='obs'), latitude=xr.DataArray(h5.latitude, dims='obs'))\n",
    "        era_int = era_int.to_dataframe()\n",
    "        era_int['latitude'] = era_int.latitude.apply(myround, )\n",
    "        era_int['longitude'] = era_int.longitude.apply(myround, )\n",
    "        era_int['time'] = era_int.time.apply(date)\n",
    "        era_int = era_int.groupby([era_int['latitude'], era_int['longitude'], era_int['time']]).mean().to_xarray()\n",
    "        era_int.to_netcdf(era_filepath +'/coarsened/'+ran_path.split('/')[-1])\n",
    "        "
   ]
  },
  {
   "cell_type": "code",
   "execution_count": 53,
   "id": "30d519a7-be30-47c9-a3cf-6d872e88007c",
   "metadata": {},
   "outputs": [],
   "source": [
    "year = '2014'\n",
    "era_filepath = '/gws/nopw/j04/eo_shared_data_vol2/scratch/pete_nut/reanalysis_data/ERA5/regression_vars/'\n",
    "u10 = xr.open_dataset(era_filepath + '10m_u_component_of_wind_'+ year+'.nc', chunks={'latitude':20, 'longitude':20, 'time':5})\n",
    "v10 = xr.open_dataset(era_filepath + '10m_v_component_of_wind_'+ year+'.nc', chunks={'latitude':20, 'longitude':20, 'time':5})\n",
    "sst = xr.open_dataset(era_filepath + 'sea_surface_temperature_'+ year+'.nc', chunks={'latitude':20, 'longitude':20, 'time':5})"
   ]
  },
  {
   "cell_type": "code",
   "execution_count": 7,
   "id": "68a962ad-8e99-4274-90ee-9f74efa02f7c",
   "metadata": {},
   "outputs": [],
   "source": []
  },
  {
   "cell_type": "code",
   "execution_count": 8,
   "id": "3d9632f4-28ed-4036-94a8-c572e3927bad",
   "metadata": {},
   "outputs": [
    {
     "data": {
      "text/plain": [
       "<dask.config.set at 0x7f12fcc8f160>"
      ]
     },
     "execution_count": 8,
     "metadata": {},
     "output_type": "execute_result"
    }
   ],
   "source": [
    "dask.config.set({'array.slicing.split_large_chunks': True})"
   ]
  },
  {
   "cell_type": "code",
   "execution_count": 54,
   "id": "5a6143bf-afa9-4e3e-b7bb-fc53ed82bd8d",
   "metadata": {},
   "outputs": [],
   "source": [
    "u10 = u10.coarsen({'latitude':10,'longitude':10},boundary='pad').mean()\n",
    "v10 = v10.coarsen({'latitude':10,'longitude':10},boundary='pad').mean()\n",
    "sst = sst.coarsen({'latitude':10,'longitude':10},boundary='pad').mean()"
   ]
  },
  {
   "cell_type": "code",
   "execution_count": 55,
   "id": "e0750b88-e19e-4bf1-ba88-5306b5a44fd7",
   "metadata": {},
   "outputs": [],
   "source": [
    "u10=u10.chunk(chunks='auto')\n",
    "v10=v10.chunk(chunks='auto')\n",
    "sst=sst.chunk(chunks='auto')"
   ]
  },
  {
   "cell_type": "code",
   "execution_count": 56,
   "id": "effc9516-9e45-495b-bde7-06caa0257dce",
   "metadata": {},
   "outputs": [],
   "source": [
    "sst_lo = sst.differentiate('longitude')\n",
    "sst_la = sst.differentiate('latitude')"
   ]
  },
  {
   "cell_type": "code",
   "execution_count": 22,
   "id": "c4504bf0-96cb-446c-a1a7-4f99466cad45",
   "metadata": {},
   "outputs": [],
   "source": [
    "Re= 6371000"
   ]
  },
  {
   "cell_type": "code",
   "execution_count": 45,
   "id": "dc9081b8-80f8-45c4-88de-97f22c2d865e",
   "metadata": {},
   "outputs": [],
   "source": [
    "colats = np.cos(sst_lo.latitude/180*np.pi)"
   ]
  },
  {
   "cell_type": "code",
   "execution_count": 67,
   "id": "e50d767d-7803-4453-86ec-456128c054b5",
   "metadata": {},
   "outputs": [],
   "source": [
    "Tadv =  - 1/(Re*colats) * sst_lo.sst * u10.u10"
   ]
  },
  {
   "cell_type": "code",
   "execution_count": 68,
   "id": "886d3dd4-afb8-4be7-83fc-f1e7214faf03",
   "metadata": {},
   "outputs": [],
   "source": [
    "Tadv -= 1/Re * sst_la.sst * v10.v10"
   ]
  },
  {
   "cell_type": "code",
   "execution_count": null,
   "id": "5f22a056-b934-4b19-8ddf-7fc0e2daa26c",
   "metadata": {},
   "outputs": [],
   "source": [
    "Tadv.to_netcdf(era_filepath+'T_adv'+year+'.nc')"
   ]
  },
  {
   "cell_type": "code",
   "execution_count": null,
   "id": "1fccc152-89bc-4e77-ae90-2b1edd61dda9",
   "metadata": {},
   "outputs": [],
   "source": [
    "Tadv"
   ]
  },
  {
   "cell_type": "code",
   "execution_count": null,
   "id": "624f8f13-7c06-4b9d-9186-6c3367678a18",
   "metadata": {},
   "outputs": [],
   "source": []
  }
 ],
 "metadata": {
  "kernelspec": {
   "display_name": "petes_env",
   "language": "python",
   "name": "petes_env"
  },
  "language_info": {
   "codemirror_mode": {
    "name": "ipython",
    "version": 3
   },
   "file_extension": ".py",
   "mimetype": "text/x-python",
   "name": "python",
   "nbconvert_exporter": "python",
   "pygments_lexer": "ipython3",
   "version": "3.8.18"
  }
 },
 "nbformat": 4,
 "nbformat_minor": 5
}
